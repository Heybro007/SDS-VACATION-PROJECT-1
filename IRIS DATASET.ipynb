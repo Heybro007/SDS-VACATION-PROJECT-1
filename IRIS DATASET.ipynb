{
 "cells": [
  {
   "cell_type": "code",
   "execution_count": 1,
   "metadata": {},
   "outputs": [],
   "source": [
    "import numpy as np"
   ]
  },
  {
   "cell_type": "code",
   "execution_count": 2,
   "metadata": {},
   "outputs": [],
   "source": [
    "import pandas as pd"
   ]
  },
  {
   "cell_type": "code",
   "execution_count": 3,
   "metadata": {},
   "outputs": [],
   "source": [
    "import matplotlib.pyplot as plt"
   ]
  },
  {
   "cell_type": "code",
   "execution_count": 4,
   "metadata": {},
   "outputs": [],
   "source": [
    "import seaborn as sns"
   ]
  },
  {
   "cell_type": "code",
   "execution_count": 12,
   "metadata": {},
   "outputs": [],
   "source": [
    "df=pd.read_csv(\"iris.csv\")"
   ]
  },
  {
   "cell_type": "code",
   "execution_count": 13,
   "metadata": {},
   "outputs": [
    {
     "data": {
      "text/html": [
       "<div>\n",
       "<style scoped>\n",
       "    .dataframe tbody tr th:only-of-type {\n",
       "        vertical-align: middle;\n",
       "    }\n",
       "\n",
       "    .dataframe tbody tr th {\n",
       "        vertical-align: top;\n",
       "    }\n",
       "\n",
       "    .dataframe thead th {\n",
       "        text-align: right;\n",
       "    }\n",
       "</style>\n",
       "<table border=\"1\" class=\"dataframe\">\n",
       "  <thead>\n",
       "    <tr style=\"text-align: right;\">\n",
       "      <th></th>\n",
       "      <th>5.1</th>\n",
       "      <th>3.5</th>\n",
       "      <th>1.4</th>\n",
       "      <th>0.2</th>\n",
       "      <th>Iris-setosa</th>\n",
       "    </tr>\n",
       "  </thead>\n",
       "  <tbody>\n",
       "    <tr>\n",
       "      <th>0</th>\n",
       "      <td>4.9</td>\n",
       "      <td>3.0</td>\n",
       "      <td>1.4</td>\n",
       "      <td>0.2</td>\n",
       "      <td>Iris-setosa</td>\n",
       "    </tr>\n",
       "    <tr>\n",
       "      <th>1</th>\n",
       "      <td>4.7</td>\n",
       "      <td>3.2</td>\n",
       "      <td>1.3</td>\n",
       "      <td>0.2</td>\n",
       "      <td>Iris-setosa</td>\n",
       "    </tr>\n",
       "    <tr>\n",
       "      <th>2</th>\n",
       "      <td>4.6</td>\n",
       "      <td>3.1</td>\n",
       "      <td>1.5</td>\n",
       "      <td>0.2</td>\n",
       "      <td>Iris-setosa</td>\n",
       "    </tr>\n",
       "    <tr>\n",
       "      <th>3</th>\n",
       "      <td>5.0</td>\n",
       "      <td>3.6</td>\n",
       "      <td>1.4</td>\n",
       "      <td>0.2</td>\n",
       "      <td>Iris-setosa</td>\n",
       "    </tr>\n",
       "    <tr>\n",
       "      <th>4</th>\n",
       "      <td>5.4</td>\n",
       "      <td>3.9</td>\n",
       "      <td>1.7</td>\n",
       "      <td>0.4</td>\n",
       "      <td>Iris-setosa</td>\n",
       "    </tr>\n",
       "  </tbody>\n",
       "</table>\n",
       "</div>"
      ],
      "text/plain": [
       "   5.1  3.5  1.4  0.2  Iris-setosa\n",
       "0  4.9  3.0  1.4  0.2  Iris-setosa\n",
       "1  4.7  3.2  1.3  0.2  Iris-setosa\n",
       "2  4.6  3.1  1.5  0.2  Iris-setosa\n",
       "3  5.0  3.6  1.4  0.2  Iris-setosa\n",
       "4  5.4  3.9  1.7  0.4  Iris-setosa"
      ]
     },
     "execution_count": 13,
     "metadata": {},
     "output_type": "execute_result"
    }
   ],
   "source": [
    "df.head()"
   ]
  },
  {
   "cell_type": "code",
   "execution_count": 15,
   "metadata": {},
   "outputs": [
    {
     "data": {
      "text/html": [
       "<div>\n",
       "<style scoped>\n",
       "    .dataframe tbody tr th:only-of-type {\n",
       "        vertical-align: middle;\n",
       "    }\n",
       "\n",
       "    .dataframe tbody tr th {\n",
       "        vertical-align: top;\n",
       "    }\n",
       "\n",
       "    .dataframe thead th {\n",
       "        text-align: right;\n",
       "    }\n",
       "</style>\n",
       "<table border=\"1\" class=\"dataframe\">\n",
       "  <thead>\n",
       "    <tr style=\"text-align: right;\">\n",
       "      <th></th>\n",
       "      <th>sepal_length</th>\n",
       "      <th>sepal_width</th>\n",
       "      <th>petal_length</th>\n",
       "      <th>petal_width</th>\n",
       "      <th>species</th>\n",
       "    </tr>\n",
       "  </thead>\n",
       "  <tbody>\n",
       "    <tr>\n",
       "      <th>0</th>\n",
       "      <td>4.9</td>\n",
       "      <td>3.0</td>\n",
       "      <td>1.4</td>\n",
       "      <td>0.2</td>\n",
       "      <td>Iris-setosa</td>\n",
       "    </tr>\n",
       "    <tr>\n",
       "      <th>1</th>\n",
       "      <td>4.7</td>\n",
       "      <td>3.2</td>\n",
       "      <td>1.3</td>\n",
       "      <td>0.2</td>\n",
       "      <td>Iris-setosa</td>\n",
       "    </tr>\n",
       "    <tr>\n",
       "      <th>2</th>\n",
       "      <td>4.6</td>\n",
       "      <td>3.1</td>\n",
       "      <td>1.5</td>\n",
       "      <td>0.2</td>\n",
       "      <td>Iris-setosa</td>\n",
       "    </tr>\n",
       "    <tr>\n",
       "      <th>3</th>\n",
       "      <td>5.0</td>\n",
       "      <td>3.6</td>\n",
       "      <td>1.4</td>\n",
       "      <td>0.2</td>\n",
       "      <td>Iris-setosa</td>\n",
       "    </tr>\n",
       "    <tr>\n",
       "      <th>4</th>\n",
       "      <td>5.4</td>\n",
       "      <td>3.9</td>\n",
       "      <td>1.7</td>\n",
       "      <td>0.4</td>\n",
       "      <td>Iris-setosa</td>\n",
       "    </tr>\n",
       "  </tbody>\n",
       "</table>\n",
       "</div>"
      ],
      "text/plain": [
       "   sepal_length  sepal_width  petal_length  petal_width      species\n",
       "0           4.9          3.0           1.4          0.2  Iris-setosa\n",
       "1           4.7          3.2           1.3          0.2  Iris-setosa\n",
       "2           4.6          3.1           1.5          0.2  Iris-setosa\n",
       "3           5.0          3.6           1.4          0.2  Iris-setosa\n",
       "4           5.4          3.9           1.7          0.4  Iris-setosa"
      ]
     },
     "execution_count": 15,
     "metadata": {},
     "output_type": "execute_result"
    }
   ],
   "source": [
    "df.columns=['sepal_length','sepal_width','petal_length','petal_width','species']\n",
    "df.head()"
   ]
  },
  {
   "cell_type": "code",
   "execution_count": 17,
   "metadata": {},
   "outputs": [
    {
     "data": {
      "text/plain": [
       "sepal_length    float64\n",
       "sepal_width     float64\n",
       "petal_length    float64\n",
       "petal_width     float64\n",
       "species          object\n",
       "dtype: object"
      ]
     },
     "execution_count": 17,
     "metadata": {},
     "output_type": "execute_result"
    }
   ],
   "source": [
    "df.dtypes"
   ]
  },
  {
   "cell_type": "code",
   "execution_count": 18,
   "metadata": {},
   "outputs": [
    {
     "data": {
      "text/html": [
       "<div>\n",
       "<style scoped>\n",
       "    .dataframe tbody tr th:only-of-type {\n",
       "        vertical-align: middle;\n",
       "    }\n",
       "\n",
       "    .dataframe tbody tr th {\n",
       "        vertical-align: top;\n",
       "    }\n",
       "\n",
       "    .dataframe thead th {\n",
       "        text-align: right;\n",
       "    }\n",
       "</style>\n",
       "<table border=\"1\" class=\"dataframe\">\n",
       "  <thead>\n",
       "    <tr style=\"text-align: right;\">\n",
       "      <th></th>\n",
       "      <th>sepal_length</th>\n",
       "      <th>sepal_width</th>\n",
       "      <th>petal_length</th>\n",
       "      <th>petal_width</th>\n",
       "      <th>species</th>\n",
       "    </tr>\n",
       "  </thead>\n",
       "  <tbody>\n",
       "    <tr>\n",
       "      <th>count</th>\n",
       "      <td>149.000000</td>\n",
       "      <td>149.000000</td>\n",
       "      <td>149.000000</td>\n",
       "      <td>149.000000</td>\n",
       "      <td>149</td>\n",
       "    </tr>\n",
       "    <tr>\n",
       "      <th>unique</th>\n",
       "      <td>NaN</td>\n",
       "      <td>NaN</td>\n",
       "      <td>NaN</td>\n",
       "      <td>NaN</td>\n",
       "      <td>3</td>\n",
       "    </tr>\n",
       "    <tr>\n",
       "      <th>top</th>\n",
       "      <td>NaN</td>\n",
       "      <td>NaN</td>\n",
       "      <td>NaN</td>\n",
       "      <td>NaN</td>\n",
       "      <td>Iris-virginica</td>\n",
       "    </tr>\n",
       "    <tr>\n",
       "      <th>freq</th>\n",
       "      <td>NaN</td>\n",
       "      <td>NaN</td>\n",
       "      <td>NaN</td>\n",
       "      <td>NaN</td>\n",
       "      <td>50</td>\n",
       "    </tr>\n",
       "    <tr>\n",
       "      <th>mean</th>\n",
       "      <td>5.848322</td>\n",
       "      <td>3.051007</td>\n",
       "      <td>3.774497</td>\n",
       "      <td>1.205369</td>\n",
       "      <td>NaN</td>\n",
       "    </tr>\n",
       "    <tr>\n",
       "      <th>std</th>\n",
       "      <td>0.828594</td>\n",
       "      <td>0.433499</td>\n",
       "      <td>1.759651</td>\n",
       "      <td>0.761292</td>\n",
       "      <td>NaN</td>\n",
       "    </tr>\n",
       "    <tr>\n",
       "      <th>min</th>\n",
       "      <td>4.300000</td>\n",
       "      <td>2.000000</td>\n",
       "      <td>1.000000</td>\n",
       "      <td>0.100000</td>\n",
       "      <td>NaN</td>\n",
       "    </tr>\n",
       "    <tr>\n",
       "      <th>25%</th>\n",
       "      <td>5.100000</td>\n",
       "      <td>2.800000</td>\n",
       "      <td>1.600000</td>\n",
       "      <td>0.300000</td>\n",
       "      <td>NaN</td>\n",
       "    </tr>\n",
       "    <tr>\n",
       "      <th>50%</th>\n",
       "      <td>5.800000</td>\n",
       "      <td>3.000000</td>\n",
       "      <td>4.400000</td>\n",
       "      <td>1.300000</td>\n",
       "      <td>NaN</td>\n",
       "    </tr>\n",
       "    <tr>\n",
       "      <th>75%</th>\n",
       "      <td>6.400000</td>\n",
       "      <td>3.300000</td>\n",
       "      <td>5.100000</td>\n",
       "      <td>1.800000</td>\n",
       "      <td>NaN</td>\n",
       "    </tr>\n",
       "    <tr>\n",
       "      <th>max</th>\n",
       "      <td>7.900000</td>\n",
       "      <td>4.400000</td>\n",
       "      <td>6.900000</td>\n",
       "      <td>2.500000</td>\n",
       "      <td>NaN</td>\n",
       "    </tr>\n",
       "  </tbody>\n",
       "</table>\n",
       "</div>"
      ],
      "text/plain": [
       "        sepal_length  sepal_width  petal_length  petal_width         species\n",
       "count     149.000000   149.000000    149.000000   149.000000             149\n",
       "unique           NaN          NaN           NaN          NaN               3\n",
       "top              NaN          NaN           NaN          NaN  Iris-virginica\n",
       "freq             NaN          NaN           NaN          NaN              50\n",
       "mean        5.848322     3.051007      3.774497     1.205369             NaN\n",
       "std         0.828594     0.433499      1.759651     0.761292             NaN\n",
       "min         4.300000     2.000000      1.000000     0.100000             NaN\n",
       "25%         5.100000     2.800000      1.600000     0.300000             NaN\n",
       "50%         5.800000     3.000000      4.400000     1.300000             NaN\n",
       "75%         6.400000     3.300000      5.100000     1.800000             NaN\n",
       "max         7.900000     4.400000      6.900000     2.500000             NaN"
      ]
     },
     "execution_count": 18,
     "metadata": {},
     "output_type": "execute_result"
    }
   ],
   "source": [
    "df.describe(include='all')"
   ]
  },
  {
   "cell_type": "code",
   "execution_count": 20,
   "metadata": {},
   "outputs": [],
   "source": [
    "df.replace(\"?\",np.nan,inplace=True)"
   ]
  },
  {
   "cell_type": "code",
   "execution_count": 21,
   "metadata": {},
   "outputs": [
    {
     "data": {
      "text/html": [
       "<div>\n",
       "<style scoped>\n",
       "    .dataframe tbody tr th:only-of-type {\n",
       "        vertical-align: middle;\n",
       "    }\n",
       "\n",
       "    .dataframe tbody tr th {\n",
       "        vertical-align: top;\n",
       "    }\n",
       "\n",
       "    .dataframe thead th {\n",
       "        text-align: right;\n",
       "    }\n",
       "</style>\n",
       "<table border=\"1\" class=\"dataframe\">\n",
       "  <thead>\n",
       "    <tr style=\"text-align: right;\">\n",
       "      <th></th>\n",
       "      <th>sepal_length</th>\n",
       "      <th>sepal_width</th>\n",
       "      <th>petal_length</th>\n",
       "      <th>petal_width</th>\n",
       "      <th>species</th>\n",
       "    </tr>\n",
       "  </thead>\n",
       "  <tbody>\n",
       "    <tr>\n",
       "      <th>0</th>\n",
       "      <td>False</td>\n",
       "      <td>False</td>\n",
       "      <td>False</td>\n",
       "      <td>False</td>\n",
       "      <td>False</td>\n",
       "    </tr>\n",
       "    <tr>\n",
       "      <th>1</th>\n",
       "      <td>False</td>\n",
       "      <td>False</td>\n",
       "      <td>False</td>\n",
       "      <td>False</td>\n",
       "      <td>False</td>\n",
       "    </tr>\n",
       "    <tr>\n",
       "      <th>2</th>\n",
       "      <td>False</td>\n",
       "      <td>False</td>\n",
       "      <td>False</td>\n",
       "      <td>False</td>\n",
       "      <td>False</td>\n",
       "    </tr>\n",
       "    <tr>\n",
       "      <th>3</th>\n",
       "      <td>False</td>\n",
       "      <td>False</td>\n",
       "      <td>False</td>\n",
       "      <td>False</td>\n",
       "      <td>False</td>\n",
       "    </tr>\n",
       "    <tr>\n",
       "      <th>4</th>\n",
       "      <td>False</td>\n",
       "      <td>False</td>\n",
       "      <td>False</td>\n",
       "      <td>False</td>\n",
       "      <td>False</td>\n",
       "    </tr>\n",
       "    <tr>\n",
       "      <th>...</th>\n",
       "      <td>...</td>\n",
       "      <td>...</td>\n",
       "      <td>...</td>\n",
       "      <td>...</td>\n",
       "      <td>...</td>\n",
       "    </tr>\n",
       "    <tr>\n",
       "      <th>144</th>\n",
       "      <td>False</td>\n",
       "      <td>False</td>\n",
       "      <td>False</td>\n",
       "      <td>False</td>\n",
       "      <td>False</td>\n",
       "    </tr>\n",
       "    <tr>\n",
       "      <th>145</th>\n",
       "      <td>False</td>\n",
       "      <td>False</td>\n",
       "      <td>False</td>\n",
       "      <td>False</td>\n",
       "      <td>False</td>\n",
       "    </tr>\n",
       "    <tr>\n",
       "      <th>146</th>\n",
       "      <td>False</td>\n",
       "      <td>False</td>\n",
       "      <td>False</td>\n",
       "      <td>False</td>\n",
       "      <td>False</td>\n",
       "    </tr>\n",
       "    <tr>\n",
       "      <th>147</th>\n",
       "      <td>False</td>\n",
       "      <td>False</td>\n",
       "      <td>False</td>\n",
       "      <td>False</td>\n",
       "      <td>False</td>\n",
       "    </tr>\n",
       "    <tr>\n",
       "      <th>148</th>\n",
       "      <td>False</td>\n",
       "      <td>False</td>\n",
       "      <td>False</td>\n",
       "      <td>False</td>\n",
       "      <td>False</td>\n",
       "    </tr>\n",
       "  </tbody>\n",
       "</table>\n",
       "<p>149 rows × 5 columns</p>\n",
       "</div>"
      ],
      "text/plain": [
       "     sepal_length  sepal_width  petal_length  petal_width  species\n",
       "0           False        False         False        False    False\n",
       "1           False        False         False        False    False\n",
       "2           False        False         False        False    False\n",
       "3           False        False         False        False    False\n",
       "4           False        False         False        False    False\n",
       "..            ...          ...           ...          ...      ...\n",
       "144         False        False         False        False    False\n",
       "145         False        False         False        False    False\n",
       "146         False        False         False        False    False\n",
       "147         False        False         False        False    False\n",
       "148         False        False         False        False    False\n",
       "\n",
       "[149 rows x 5 columns]"
      ]
     },
     "execution_count": 21,
     "metadata": {},
     "output_type": "execute_result"
    }
   ],
   "source": [
    "df.isnull()"
   ]
  },
  {
   "cell_type": "code",
   "execution_count": 22,
   "metadata": {},
   "outputs": [
    {
     "data": {
      "text/plain": [
       "[[4.9, 3.0, 1.4, 0.2, 'Iris-setosa'],\n",
       " [4.7, 3.2, 1.3, 0.2, 'Iris-setosa'],\n",
       " [4.6, 3.1, 1.5, 0.2, 'Iris-setosa'],\n",
       " [5.0, 3.6, 1.4, 0.2, 'Iris-setosa'],\n",
       " [5.4, 3.9, 1.7, 0.4, 'Iris-setosa'],\n",
       " [4.6, 3.4, 1.4, 0.3, 'Iris-setosa'],\n",
       " [5.0, 3.4, 1.5, 0.2, 'Iris-setosa'],\n",
       " [4.4, 2.9, 1.4, 0.2, 'Iris-setosa'],\n",
       " [4.9, 3.1, 1.5, 0.1, 'Iris-setosa'],\n",
       " [5.4, 3.7, 1.5, 0.2, 'Iris-setosa'],\n",
       " [4.8, 3.4, 1.6, 0.2, 'Iris-setosa'],\n",
       " [4.8, 3.0, 1.4, 0.1, 'Iris-setosa'],\n",
       " [4.3, 3.0, 1.1, 0.1, 'Iris-setosa'],\n",
       " [5.8, 4.0, 1.2, 0.2, 'Iris-setosa'],\n",
       " [5.7, 4.4, 1.5, 0.4, 'Iris-setosa'],\n",
       " [5.4, 3.9, 1.3, 0.4, 'Iris-setosa'],\n",
       " [5.1, 3.5, 1.4, 0.3, 'Iris-setosa'],\n",
       " [5.7, 3.8, 1.7, 0.3, 'Iris-setosa'],\n",
       " [5.1, 3.8, 1.5, 0.3, 'Iris-setosa'],\n",
       " [5.4, 3.4, 1.7, 0.2, 'Iris-setosa'],\n",
       " [5.1, 3.7, 1.5, 0.4, 'Iris-setosa'],\n",
       " [4.6, 3.6, 1.0, 0.2, 'Iris-setosa'],\n",
       " [5.1, 3.3, 1.7, 0.5, 'Iris-setosa'],\n",
       " [4.8, 3.4, 1.9, 0.2, 'Iris-setosa'],\n",
       " [5.0, 3.0, 1.6, 0.2, 'Iris-setosa'],\n",
       " [5.0, 3.4, 1.6, 0.4, 'Iris-setosa'],\n",
       " [5.2, 3.5, 1.5, 0.2, 'Iris-setosa'],\n",
       " [5.2, 3.4, 1.4, 0.2, 'Iris-setosa'],\n",
       " [4.7, 3.2, 1.6, 0.2, 'Iris-setosa'],\n",
       " [4.8, 3.1, 1.6, 0.2, 'Iris-setosa'],\n",
       " [5.4, 3.4, 1.5, 0.4, 'Iris-setosa'],\n",
       " [5.2, 4.1, 1.5, 0.1, 'Iris-setosa'],\n",
       " [5.5, 4.2, 1.4, 0.2, 'Iris-setosa'],\n",
       " [4.9, 3.1, 1.5, 0.1, 'Iris-setosa'],\n",
       " [5.0, 3.2, 1.2, 0.2, 'Iris-setosa'],\n",
       " [5.5, 3.5, 1.3, 0.2, 'Iris-setosa'],\n",
       " [4.9, 3.1, 1.5, 0.1, 'Iris-setosa'],\n",
       " [4.4, 3.0, 1.3, 0.2, 'Iris-setosa'],\n",
       " [5.1, 3.4, 1.5, 0.2, 'Iris-setosa'],\n",
       " [5.0, 3.5, 1.3, 0.3, 'Iris-setosa'],\n",
       " [4.5, 2.3, 1.3, 0.3, 'Iris-setosa'],\n",
       " [4.4, 3.2, 1.3, 0.2, 'Iris-setosa'],\n",
       " [5.0, 3.5, 1.6, 0.6, 'Iris-setosa'],\n",
       " [5.1, 3.8, 1.9, 0.4, 'Iris-setosa'],\n",
       " [4.8, 3.0, 1.4, 0.3, 'Iris-setosa'],\n",
       " [5.1, 3.8, 1.6, 0.2, 'Iris-setosa'],\n",
       " [4.6, 3.2, 1.4, 0.2, 'Iris-setosa'],\n",
       " [5.3, 3.7, 1.5, 0.2, 'Iris-setosa'],\n",
       " [5.0, 3.3, 1.4, 0.2, 'Iris-setosa'],\n",
       " [7.0, 3.2, 4.7, 1.4, 'Iris-versicolor'],\n",
       " [6.4, 3.2, 4.5, 1.5, 'Iris-versicolor'],\n",
       " [6.9, 3.1, 4.9, 1.5, 'Iris-versicolor'],\n",
       " [5.5, 2.3, 4.0, 1.3, 'Iris-versicolor'],\n",
       " [6.5, 2.8, 4.6, 1.5, 'Iris-versicolor'],\n",
       " [5.7, 2.8, 4.5, 1.3, 'Iris-versicolor'],\n",
       " [6.3, 3.3, 4.7, 1.6, 'Iris-versicolor'],\n",
       " [4.9, 2.4, 3.3, 1.0, 'Iris-versicolor'],\n",
       " [6.6, 2.9, 4.6, 1.3, 'Iris-versicolor'],\n",
       " [5.2, 2.7, 3.9, 1.4, 'Iris-versicolor'],\n",
       " [5.0, 2.0, 3.5, 1.0, 'Iris-versicolor'],\n",
       " [5.9, 3.0, 4.2, 1.5, 'Iris-versicolor'],\n",
       " [6.0, 2.2, 4.0, 1.0, 'Iris-versicolor'],\n",
       " [6.1, 2.9, 4.7, 1.4, 'Iris-versicolor'],\n",
       " [5.6, 2.9, 3.6, 1.3, 'Iris-versicolor'],\n",
       " [6.7, 3.1, 4.4, 1.4, 'Iris-versicolor'],\n",
       " [5.6, 3.0, 4.5, 1.5, 'Iris-versicolor'],\n",
       " [5.8, 2.7, 4.1, 1.0, 'Iris-versicolor'],\n",
       " [6.2, 2.2, 4.5, 1.5, 'Iris-versicolor'],\n",
       " [5.6, 2.5, 3.9, 1.1, 'Iris-versicolor'],\n",
       " [5.9, 3.2, 4.8, 1.8, 'Iris-versicolor'],\n",
       " [6.1, 2.8, 4.0, 1.3, 'Iris-versicolor'],\n",
       " [6.3, 2.5, 4.9, 1.5, 'Iris-versicolor'],\n",
       " [6.1, 2.8, 4.7, 1.2, 'Iris-versicolor'],\n",
       " [6.4, 2.9, 4.3, 1.3, 'Iris-versicolor'],\n",
       " [6.6, 3.0, 4.4, 1.4, 'Iris-versicolor'],\n",
       " [6.8, 2.8, 4.8, 1.4, 'Iris-versicolor'],\n",
       " [6.7, 3.0, 5.0, 1.7, 'Iris-versicolor'],\n",
       " [6.0, 2.9, 4.5, 1.5, 'Iris-versicolor'],\n",
       " [5.7, 2.6, 3.5, 1.0, 'Iris-versicolor'],\n",
       " [5.5, 2.4, 3.8, 1.1, 'Iris-versicolor'],\n",
       " [5.5, 2.4, 3.7, 1.0, 'Iris-versicolor'],\n",
       " [5.8, 2.7, 3.9, 1.2, 'Iris-versicolor'],\n",
       " [6.0, 2.7, 5.1, 1.6, 'Iris-versicolor'],\n",
       " [5.4, 3.0, 4.5, 1.5, 'Iris-versicolor'],\n",
       " [6.0, 3.4, 4.5, 1.6, 'Iris-versicolor'],\n",
       " [6.7, 3.1, 4.7, 1.5, 'Iris-versicolor'],\n",
       " [6.3, 2.3, 4.4, 1.3, 'Iris-versicolor'],\n",
       " [5.6, 3.0, 4.1, 1.3, 'Iris-versicolor'],\n",
       " [5.5, 2.5, 4.0, 1.3, 'Iris-versicolor'],\n",
       " [5.5, 2.6, 4.4, 1.2, 'Iris-versicolor'],\n",
       " [6.1, 3.0, 4.6, 1.4, 'Iris-versicolor'],\n",
       " [5.8, 2.6, 4.0, 1.2, 'Iris-versicolor'],\n",
       " [5.0, 2.3, 3.3, 1.0, 'Iris-versicolor'],\n",
       " [5.6, 2.7, 4.2, 1.3, 'Iris-versicolor'],\n",
       " [5.7, 3.0, 4.2, 1.2, 'Iris-versicolor'],\n",
       " [5.7, 2.9, 4.2, 1.3, 'Iris-versicolor'],\n",
       " [6.2, 2.9, 4.3, 1.3, 'Iris-versicolor'],\n",
       " [5.1, 2.5, 3.0, 1.1, 'Iris-versicolor'],\n",
       " [5.7, 2.8, 4.1, 1.3, 'Iris-versicolor'],\n",
       " [6.3, 3.3, 6.0, 2.5, 'Iris-virginica'],\n",
       " [5.8, 2.7, 5.1, 1.9, 'Iris-virginica'],\n",
       " [7.1, 3.0, 5.9, 2.1, 'Iris-virginica'],\n",
       " [6.3, 2.9, 5.6, 1.8, 'Iris-virginica'],\n",
       " [6.5, 3.0, 5.8, 2.2, 'Iris-virginica'],\n",
       " [7.6, 3.0, 6.6, 2.1, 'Iris-virginica'],\n",
       " [4.9, 2.5, 4.5, 1.7, 'Iris-virginica'],\n",
       " [7.3, 2.9, 6.3, 1.8, 'Iris-virginica'],\n",
       " [6.7, 2.5, 5.8, 1.8, 'Iris-virginica'],\n",
       " [7.2, 3.6, 6.1, 2.5, 'Iris-virginica'],\n",
       " [6.5, 3.2, 5.1, 2.0, 'Iris-virginica'],\n",
       " [6.4, 2.7, 5.3, 1.9, 'Iris-virginica'],\n",
       " [6.8, 3.0, 5.5, 2.1, 'Iris-virginica'],\n",
       " [5.7, 2.5, 5.0, 2.0, 'Iris-virginica'],\n",
       " [5.8, 2.8, 5.1, 2.4, 'Iris-virginica'],\n",
       " [6.4, 3.2, 5.3, 2.3, 'Iris-virginica'],\n",
       " [6.5, 3.0, 5.5, 1.8, 'Iris-virginica'],\n",
       " [7.7, 3.8, 6.7, 2.2, 'Iris-virginica'],\n",
       " [7.7, 2.6, 6.9, 2.3, 'Iris-virginica'],\n",
       " [6.0, 2.2, 5.0, 1.5, 'Iris-virginica'],\n",
       " [6.9, 3.2, 5.7, 2.3, 'Iris-virginica'],\n",
       " [5.6, 2.8, 4.9, 2.0, 'Iris-virginica'],\n",
       " [7.7, 2.8, 6.7, 2.0, 'Iris-virginica'],\n",
       " [6.3, 2.7, 4.9, 1.8, 'Iris-virginica'],\n",
       " [6.7, 3.3, 5.7, 2.1, 'Iris-virginica'],\n",
       " [7.2, 3.2, 6.0, 1.8, 'Iris-virginica'],\n",
       " [6.2, 2.8, 4.8, 1.8, 'Iris-virginica'],\n",
       " [6.1, 3.0, 4.9, 1.8, 'Iris-virginica'],\n",
       " [6.4, 2.8, 5.6, 2.1, 'Iris-virginica'],\n",
       " [7.2, 3.0, 5.8, 1.6, 'Iris-virginica'],\n",
       " [7.4, 2.8, 6.1, 1.9, 'Iris-virginica'],\n",
       " [7.9, 3.8, 6.4, 2.0, 'Iris-virginica'],\n",
       " [6.4, 2.8, 5.6, 2.2, 'Iris-virginica'],\n",
       " [6.3, 2.8, 5.1, 1.5, 'Iris-virginica'],\n",
       " [6.1, 2.6, 5.6, 1.4, 'Iris-virginica'],\n",
       " [7.7, 3.0, 6.1, 2.3, 'Iris-virginica'],\n",
       " [6.3, 3.4, 5.6, 2.4, 'Iris-virginica'],\n",
       " [6.4, 3.1, 5.5, 1.8, 'Iris-virginica'],\n",
       " [6.0, 3.0, 4.8, 1.8, 'Iris-virginica'],\n",
       " [6.9, 3.1, 5.4, 2.1, 'Iris-virginica'],\n",
       " [6.7, 3.1, 5.6, 2.4, 'Iris-virginica'],\n",
       " [6.9, 3.1, 5.1, 2.3, 'Iris-virginica'],\n",
       " [5.8, 2.7, 5.1, 1.9, 'Iris-virginica'],\n",
       " [6.8, 3.2, 5.9, 2.3, 'Iris-virginica'],\n",
       " [6.7, 3.3, 5.7, 2.5, 'Iris-virginica'],\n",
       " [6.7, 3.0, 5.2, 2.3, 'Iris-virginica'],\n",
       " [6.3, 2.5, 5.0, 1.9, 'Iris-virginica'],\n",
       " [6.5, 3.0, 5.2, 2.0, 'Iris-virginica'],\n",
       " [6.2, 3.4, 5.4, 2.3, 'Iris-virginica'],\n",
       " [5.9, 3.0, 5.1, 1.8, 'Iris-virginica']]"
      ]
     },
     "execution_count": 22,
     "metadata": {},
     "output_type": "execute_result"
    }
   ],
   "source": [
    "df.values.tolist()"
   ]
  },
  {
   "cell_type": "code",
   "execution_count": 23,
   "metadata": {},
   "outputs": [
    {
     "data": {
      "text/plain": [
       "['sepal_length', 'sepal_width', 'petal_length', 'petal_width', 'species']"
      ]
     },
     "execution_count": 23,
     "metadata": {},
     "output_type": "execute_result"
    }
   ],
   "source": [
    "df.columns.values.tolist()"
   ]
  },
  {
   "cell_type": "code",
   "execution_count": 24,
   "metadata": {},
   "outputs": [
    {
     "name": "stdout",
     "output_type": "stream",
     "text": [
      "<class 'pandas.core.frame.DataFrame'>\n",
      "RangeIndex: 149 entries, 0 to 148\n",
      "Data columns (total 5 columns):\n",
      " #   Column        Non-Null Count  Dtype  \n",
      "---  ------        --------------  -----  \n",
      " 0   sepal_length  149 non-null    float64\n",
      " 1   sepal_width   149 non-null    float64\n",
      " 2   petal_length  149 non-null    float64\n",
      " 3   petal_width   149 non-null    float64\n",
      " 4   species       149 non-null    object \n",
      "dtypes: float64(4), object(1)\n",
      "memory usage: 5.9+ KB\n"
     ]
    }
   ],
   "source": [
    "df.info()"
   ]
  },
  {
   "cell_type": "code",
   "execution_count": 25,
   "metadata": {},
   "outputs": [
    {
     "data": {
      "text/plain": [
       "sepal_length    0\n",
       "sepal_width     0\n",
       "petal_length    0\n",
       "petal_width     0\n",
       "species         0\n",
       "dtype: int64"
      ]
     },
     "execution_count": 25,
     "metadata": {},
     "output_type": "execute_result"
    }
   ],
   "source": [
    "df.isnull().sum(axis=0)"
   ]
  },
  {
   "cell_type": "code",
   "execution_count": 26,
   "metadata": {},
   "outputs": [
    {
     "data": {
      "text/html": [
       "<div>\n",
       "<style scoped>\n",
       "    .dataframe tbody tr th:only-of-type {\n",
       "        vertical-align: middle;\n",
       "    }\n",
       "\n",
       "    .dataframe tbody tr th {\n",
       "        vertical-align: top;\n",
       "    }\n",
       "\n",
       "    .dataframe thead th {\n",
       "        text-align: right;\n",
       "    }\n",
       "</style>\n",
       "<table border=\"1\" class=\"dataframe\">\n",
       "  <thead>\n",
       "    <tr style=\"text-align: right;\">\n",
       "      <th></th>\n",
       "      <th>Iris-setosa</th>\n",
       "      <th>Iris-versicolor</th>\n",
       "      <th>Iris-virginica</th>\n",
       "    </tr>\n",
       "  </thead>\n",
       "  <tbody>\n",
       "    <tr>\n",
       "      <th>0</th>\n",
       "      <td>1</td>\n",
       "      <td>0</td>\n",
       "      <td>0</td>\n",
       "    </tr>\n",
       "    <tr>\n",
       "      <th>1</th>\n",
       "      <td>1</td>\n",
       "      <td>0</td>\n",
       "      <td>0</td>\n",
       "    </tr>\n",
       "    <tr>\n",
       "      <th>2</th>\n",
       "      <td>1</td>\n",
       "      <td>0</td>\n",
       "      <td>0</td>\n",
       "    </tr>\n",
       "    <tr>\n",
       "      <th>3</th>\n",
       "      <td>1</td>\n",
       "      <td>0</td>\n",
       "      <td>0</td>\n",
       "    </tr>\n",
       "    <tr>\n",
       "      <th>4</th>\n",
       "      <td>1</td>\n",
       "      <td>0</td>\n",
       "      <td>0</td>\n",
       "    </tr>\n",
       "    <tr>\n",
       "      <th>...</th>\n",
       "      <td>...</td>\n",
       "      <td>...</td>\n",
       "      <td>...</td>\n",
       "    </tr>\n",
       "    <tr>\n",
       "      <th>144</th>\n",
       "      <td>0</td>\n",
       "      <td>0</td>\n",
       "      <td>1</td>\n",
       "    </tr>\n",
       "    <tr>\n",
       "      <th>145</th>\n",
       "      <td>0</td>\n",
       "      <td>0</td>\n",
       "      <td>1</td>\n",
       "    </tr>\n",
       "    <tr>\n",
       "      <th>146</th>\n",
       "      <td>0</td>\n",
       "      <td>0</td>\n",
       "      <td>1</td>\n",
       "    </tr>\n",
       "    <tr>\n",
       "      <th>147</th>\n",
       "      <td>0</td>\n",
       "      <td>0</td>\n",
       "      <td>1</td>\n",
       "    </tr>\n",
       "    <tr>\n",
       "      <th>148</th>\n",
       "      <td>0</td>\n",
       "      <td>0</td>\n",
       "      <td>1</td>\n",
       "    </tr>\n",
       "  </tbody>\n",
       "</table>\n",
       "<p>149 rows × 3 columns</p>\n",
       "</div>"
      ],
      "text/plain": [
       "     Iris-setosa  Iris-versicolor  Iris-virginica\n",
       "0              1                0               0\n",
       "1              1                0               0\n",
       "2              1                0               0\n",
       "3              1                0               0\n",
       "4              1                0               0\n",
       "..           ...              ...             ...\n",
       "144            0                0               1\n",
       "145            0                0               1\n",
       "146            0                0               1\n",
       "147            0                0               1\n",
       "148            0                0               1\n",
       "\n",
       "[149 rows x 3 columns]"
      ]
     },
     "execution_count": 26,
     "metadata": {},
     "output_type": "execute_result"
    }
   ],
   "source": [
    "pd.get_dummies(df['species'])"
   ]
  },
  {
   "cell_type": "code",
   "execution_count": 27,
   "metadata": {},
   "outputs": [
    {
     "data": {
      "text/plain": [
       "<BarContainer object of 3 artists>"
      ]
     },
     "execution_count": 27,
     "metadata": {},
     "output_type": "execute_result"
    },
    {
     "data": {
      "image/png": "[encoded data removed]",
      "text/plain": [
       "<Figure size 432x288 with 1 Axes>"
      ]
     },
     "metadata": {
      "needs_background": "light"
     },
     "output_type": "display_data"
    }
   ],
   "source": [
    "species_names=['Iris-setosa','Iris-versicolor','Iris-virginica']\n",
    "plt.bar(species_names,df['species'].value_counts())"
   ]
  },
  {
   "cell_type": "code",
   "execution_count": 28,
   "metadata": {},
   "outputs": [
    {
     "data": {
      "text/html": [
       "<div>\n",
       "<style scoped>\n",
       "    .dataframe tbody tr th:only-of-type {\n",
       "        vertical-align: middle;\n",
       "    }\n",
       "\n",
       "    .dataframe tbody tr th {\n",
       "        vertical-align: top;\n",
       "    }\n",
       "\n",
       "    .dataframe thead th {\n",
       "        text-align: right;\n",
       "    }\n",
       "</style>\n",
       "<table border=\"1\" class=\"dataframe\">\n",
       "  <thead>\n",
       "    <tr style=\"text-align: right;\">\n",
       "      <th></th>\n",
       "      <th>sepal_length</th>\n",
       "      <th>sepal_width</th>\n",
       "      <th>petal_length</th>\n",
       "      <th>petal_width</th>\n",
       "      <th>species</th>\n",
       "    </tr>\n",
       "  </thead>\n",
       "  <tbody>\n",
       "    <tr>\n",
       "      <th>0</th>\n",
       "      <td>4.9</td>\n",
       "      <td>3.0</td>\n",
       "      <td>1.4</td>\n",
       "      <td>0.2</td>\n",
       "      <td>Iris-setosa</td>\n",
       "    </tr>\n",
       "    <tr>\n",
       "      <th>1</th>\n",
       "      <td>4.7</td>\n",
       "      <td>3.2</td>\n",
       "      <td>1.3</td>\n",
       "      <td>0.2</td>\n",
       "      <td>Iris-setosa</td>\n",
       "    </tr>\n",
       "    <tr>\n",
       "      <th>2</th>\n",
       "      <td>4.6</td>\n",
       "      <td>3.1</td>\n",
       "      <td>1.5</td>\n",
       "      <td>0.2</td>\n",
       "      <td>Iris-setosa</td>\n",
       "    </tr>\n",
       "    <tr>\n",
       "      <th>3</th>\n",
       "      <td>5.0</td>\n",
       "      <td>3.6</td>\n",
       "      <td>1.4</td>\n",
       "      <td>0.2</td>\n",
       "      <td>Iris-setosa</td>\n",
       "    </tr>\n",
       "    <tr>\n",
       "      <th>4</th>\n",
       "      <td>5.4</td>\n",
       "      <td>3.9</td>\n",
       "      <td>1.7</td>\n",
       "      <td>0.4</td>\n",
       "      <td>Iris-setosa</td>\n",
       "    </tr>\n",
       "  </tbody>\n",
       "</table>\n",
       "</div>"
      ],
      "text/plain": [
       "   sepal_length  sepal_width  petal_length  petal_width      species\n",
       "0           4.9          3.0           1.4          0.2  Iris-setosa\n",
       "1           4.7          3.2           1.3          0.2  Iris-setosa\n",
       "2           4.6          3.1           1.5          0.2  Iris-setosa\n",
       "3           5.0          3.6           1.4          0.2  Iris-setosa\n",
       "4           5.4          3.9           1.7          0.4  Iris-setosa"
      ]
     },
     "execution_count": 28,
     "metadata": {},
     "output_type": "execute_result"
    }
   ],
   "source": [
    "df.head()"
   ]
  },
  {
   "cell_type": "code",
   "execution_count": 29,
   "metadata": {},
   "outputs": [
    {
     "data": {
      "text/plain": [
       "<matplotlib.axes._subplots.AxesSubplot at 0x1a67f0400c8>"
      ]
     },
     "execution_count": 29,
     "metadata": {},
     "output_type": "execute_result"
    },
    {
     "data": {
      "image/png": "[encoded data removed]",
      "text/plain": [
       "<Figure size 720x792 with 2 Axes>"
      ]
     },
     "metadata": {
      "needs_background": "light"
     },
     "output_type": "display_data"
    }
   ],
   "source": [
    "plt.figure(figsize=(10,11))\n",
    "sns.heatmap(df.corr(),annot=True)"
   ]
  },
  {
   "cell_type": "code",
   "execution_count": 30,
   "metadata": {},
   "outputs": [
    {
     "name": "stderr",
     "output_type": "stream",
     "text": [
      "No handles with labels found to put in legend.\n"
     ]
    },
    {
     "data": {
      "text/plain": [
       "Text(0, 0.5, 'sepal_width')"
      ]
     },
     "execution_count": 30,
     "metadata": {},
     "output_type": "execute_result"
    },
    {
     "data": {
      "image/png": "[encoded data removed]",
      "text/plain": [
       "<Figure size 432x288 with 1 Axes>"
      ]
     },
     "metadata": {
      "needs_background": "light"
     },
     "output_type": "display_data"
    }
   ],
   "source": [
    "plt.scatter(df['sepal_length'],df['sepal_width'])\n",
    "plt.legend()\n",
    "plt.xlabel(\"sepal_length\")\n",
    "plt.ylabel(\"sepal_width\")"
   ]
  },
  {
   "cell_type": "markdown",
   "metadata": {},
   "source": [
    "DONE!"
   ]
  },
  {
   "cell_type": "code",
   "execution_count": null,
   "metadata": {},
   "outputs": [],
   "source": []
  }
 ],
 "metadata": {
  "kernelspec": {
   "display_name": "Python 3",
   "language": "python",
   "name": "python3"
  },
  "language_info": {
   "codemirror_mode": {
    "name": "ipython",
    "version": 3
   },
   "file_extension": ".py",
   "mimetype": "text/x-python",
   "name": "python",
   "nbconvert_exporter": "python",
   "pygments_lexer": "ipython3",
   "version": "3.7.6rc1"
  }
 },
 "nbformat": 4,
 "nbformat_minor": 4
}
